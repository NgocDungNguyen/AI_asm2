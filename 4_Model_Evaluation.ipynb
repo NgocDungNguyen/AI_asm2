{
 "cells": [
  {
   "cell_type": "code",
   "execution_count": 1,
   "metadata": {},
   "outputs": [
    {
     "name": "stdout",
     "output_type": "stream",
     "text": [
      "Adaboost - Mean Squared Error: 3.96, R² Score: 0.81\n",
      "DecisionTree - Mean Squared Error: 2.18, R² Score: 0.90\n",
      "GradientBoosting - Mean Squared Error: 1.56, R² Score: 0.93\n",
      "KNeighbors - Mean Squared Error: 1.74, R² Score: 0.92\n",
      "Lasso - Mean Squared Error: 2.53, R² Score: 0.88\n",
      "Ridge - Mean Squared Error: 2.32, R² Score: 0.89\n",
      "XGBoost - Mean Squared Error: 1.54, R² Score: 0.93\n",
      "\n",
      "Best Model: XGBoost with R² Score: 0.93\n"
     ]
    }
   ],
   "source": [
    "# 4_Model_Evaluation.ipynb\n",
    "\n",
    "import joblib\n",
    "from sklearn.metrics import mean_squared_error, r2_score\n",
    "\n",
    "# Load the preprocessed data\n",
    "X_train, X_test, y_train, y_test = joblib.load('data/split_data.pkl')\n",
    "\n",
    "# Load all the trained models\n",
    "models = {\n",
    "    'Adaboost': joblib.load('models/adaboost_model.pkl'),\n",
    "    'DecisionTree': joblib.load('models/decisiontree_model.pkl'),\n",
    "    'GradientBoosting': joblib.load('models/gradientboosting_model.pkl'),\n",
    "    'KNeighbors': joblib.load('models/kneighbors_model.pkl'),\n",
    "    'Lasso': joblib.load('models/lasso_model.pkl'),\n",
    "    'Ridge': joblib.load('models/ridge_model.pkl'),\n",
    "    'XGBoost': joblib.load('models/xgboost_model.pkl')\n",
    "}\n",
    "\n",
    "# Initialize dictionaries to store evaluation results\n",
    "mse_results = {}\n",
    "r2_results = {}\n",
    "\n",
    "# Evaluate each model\n",
    "for model_name, model in models.items():\n",
    "    y_pred = model.predict(X_test)\n",
    "    mse = mean_squared_error(y_test, y_pred)\n",
    "    r2 = r2_score(y_test, y_pred)\n",
    "    mse_results[model_name] = mse\n",
    "    r2_results[model_name] = r2\n",
    "    print(f\"{model_name} - Mean Squared Error: {mse:.2f}, R² Score: {r2:.2f}\")\n",
    "\n",
    "# Find the best model based on R² Score\n",
    "best_model_name = max(r2_results, key=r2_results.get)\n",
    "best_model = models[best_model_name]\n",
    "\n",
    "print(f\"\\nBest Model: {best_model_name} with R² Score: {r2_results[best_model_name]:.2f}\")\n"
   ]
  }
 ],
 "metadata": {
  "kernelspec": {
   "display_name": "Python 3",
   "language": "python",
   "name": "python3"
  },
  "language_info": {
   "codemirror_mode": {
    "name": "ipython",
    "version": 3
   },
   "file_extension": ".py",
   "mimetype": "text/x-python",
   "name": "python",
   "nbconvert_exporter": "python",
   "pygments_lexer": "ipython3",
   "version": "3.12.4"
  }
 },
 "nbformat": 4,
 "nbformat_minor": 2
}
