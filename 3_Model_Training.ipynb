{
 "cells": [
  {
   "cell_type": "code",
   "execution_count": 1,
   "metadata": {},
   "outputs": [],
   "source": [
    "# Importing necessary libraries\n",
    "from sklearn.linear_model import LinearRegression, Ridge, Lasso\n",
    "from sklearn.preprocessing import PolynomialFeatures\n",
    "from sklearn.pipeline import Pipeline\n",
    "from sklearn.metrics import mean_squared_error, r2_score\n",
    "from sklearn.model_selection import GridSearchCV\n",
    "import joblib\n",
    "\n",
    "# Load the preprocessed data\n",
    "X_train, X_test, y_train, y_test = joblib.load('data/split_data.pkl')\n",
    "\n",
    "# Define a pipeline combining PolynomialFeatures and Linear Regression\n",
    "pipeline = Pipeline([\n",
    "    ('poly', PolynomialFeatures()),\n",
    "    ('linear', LinearRegression())\n",
    "])\n",
    "\n",
    "# Define the grid of hyperparameters to search\n",
    "param_grid = {\n",
    "    'poly__degree': [2, 3, 4, 5],  # Trying different degrees of polynomials\n",
    "    'linear__fit_intercept': [True, False],  # Whether to calculate the intercept for this model\n",
    "    'linear__positive': [True, False],  # Whether to force coefficients to be positive\n",
    "}\n",
    "\n",
    "# Use GridSearchCV to search for the best hyperparameters\n",
    "grid_search = GridSearchCV(pipeline, param_grid, cv=5, scoring='r2')\n",
    "\n",
    "# Train the model with GridSearchCV\n",
    "grid_search.fit(X_train, y_train)\n",
    "\n",
    "# Get the best model from GridSearchCV\n",
    "best_model = grid_search.best_estimator_\n",
    "\n",
    "# Evaluate the best model on the test set\n",
    "y_pred = best_model.predict(X_test)\n",
    "mse_best = mean_squared_error(y_test, y_pred)\n",
    "r2_best = r2_score(y_test, y_pred)\n",
    "\n",
    "print(f\"Best Polynomial Regression Model - Mean Squared Error: {mse_best}\")\n",
    "print(f\"Best Polynomial Regression Model - R² Score: {r2_best}\")\n",
    "print(f\"Best Parameters: {grid_search.best_params_}\")\n",
    "\n",
    "# Save the best model\n",
    "joblib.dump(best_model, 'models/polynomial_model.pkl')"
   ]
  }
 ],
 "metadata": {
  "kernelspec": {
   "display_name": "Python 3",
   "language": "python",
   "name": "python3"
  },
  "language_info": {
   "codemirror_mode": {
    "name": "ipython",
    "version": 3
   },
   "file_extension": ".py",
   "mimetype": "text/x-python",
   "name": "python",
   "nbconvert_exporter": "python",
   "pygments_lexer": "ipython3",
   "version": "3.12.4"
  }
 },
 "nbformat": 4,
 "nbformat_minor": 2
}
