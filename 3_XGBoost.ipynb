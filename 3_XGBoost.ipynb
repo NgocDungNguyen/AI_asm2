{
 "cells": [
  {
   "cell_type": "code",
   "execution_count": 1,
   "metadata": {},
   "outputs": [
    {
     "name": "stderr",
     "output_type": "stream",
     "text": [
      "c:\\Users\\June Nguyen\\Downloads\\Compressed\\Python\\Lib\\site-packages\\numpy\\ma\\core.py:2846: RuntimeWarning: invalid value encountered in cast\n",
      "  \n"
     ]
    },
    {
     "name": "stdout",
     "output_type": "stream",
     "text": [
      "Best XGBoost Regressor - Mean Squared Error: 1.5439113995033784\n",
      "Best XGBoost Regressor - R² Score: 0.9257550239562988\n",
      "Best Parameters: {'colsample_bytree': 0.9, 'learning_rate': 0.1, 'max_depth': 5, 'n_estimators': 300, 'subsample': 0.8}\n"
     ]
    },
    {
     "data": {
      "text/plain": [
       "['models/xgboost_model.pkl']"
      ]
     },
     "execution_count": 1,
     "metadata": {},
     "output_type": "execute_result"
    }
   ],
   "source": [
    "# Importing necessary libraries\n",
    "from xgboost import XGBRegressor\n",
    "from sklearn.metrics import mean_squared_error, r2_score\n",
    "from sklearn.model_selection import GridSearchCV\n",
    "import joblib\n",
    "\n",
    "# Load the preprocessed data\n",
    "X_train, X_test, y_train, y_test = joblib.load('data/split_data.pkl')\n",
    "\n",
    "# Define the XGBoost Regressor model\n",
    "model = XGBRegressor(objective='reg:squarederror', random_state=42)\n",
    "\n",
    "# Define the grid of hyperparameters to search\n",
    "param_grid = {\n",
    "    'n_estimators': [100, 200, 300],  # Number of boosting rounds\n",
    "    'learning_rate': [0.01, 0.1, 0.05],  # Learning rate\n",
    "    'max_depth': [3, 4, 5],  # Maximum depth of a tree\n",
    "    'subsample': [0.8, 0.9, 1.0],  # Subsample ratio of the training instances\n",
    "    'colsample_bytree': [0.8, 0.9, 1.0]  # Subsample ratio of columns when constructing each tree\n",
    "}\n",
    "\n",
    "# Use GridSearchCV to search for the best hyperparameters\n",
    "grid_search = GridSearchCV(model, param_grid, cv=5, scoring='r2')\n",
    "\n",
    "# Train the model with GridSearchCV\n",
    "grid_search.fit(X_train, y_train)\n",
    "\n",
    "# Get the best model from GridSearchCV\n",
    "best_model = grid_search.best_estimator_\n",
    "\n",
    "# Evaluate the best model on the test set\n",
    "y_pred = best_model.predict(X_test)\n",
    "mse_best = mean_squared_error(y_test, y_pred)\n",
    "r2_best = r2_score(y_test, y_pred)\n",
    "\n",
    "print(f\"Best XGBoost Regressor - Mean Squared Error: {mse_best}\")\n",
    "print(f\"Best XGBoost Regressor - R² Score: {r2_best}\")\n",
    "print(f\"Best Parameters: {grid_search.best_params_}\")\n",
    "\n",
    "# Save the best model\n",
    "joblib.dump(best_model, 'models/xgboost_model.pkl')\n"
   ]
  }
 ],
 "metadata": {
  "kernelspec": {
   "display_name": "Python 3",
   "language": "python",
   "name": "python3"
  },
  "language_info": {
   "codemirror_mode": {
    "name": "ipython",
    "version": 3
   },
   "file_extension": ".py",
   "mimetype": "text/x-python",
   "name": "python",
   "nbconvert_exporter": "python",
   "pygments_lexer": "ipython3",
   "version": "3.12.4"
  }
 },
 "nbformat": 4,
 "nbformat_minor": 2
}
