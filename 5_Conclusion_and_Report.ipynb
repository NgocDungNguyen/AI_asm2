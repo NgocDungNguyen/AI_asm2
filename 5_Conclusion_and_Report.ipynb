{
 "cells": [
  {
   "cell_type": "code",
   "execution_count": 2,
   "metadata": {},
   "outputs": [
    {
     "name": "stdout",
     "output_type": "stream",
     "text": [
      "### Conclusion and Insights\n",
      "Final Model Performance on Test Set:\n",
      "Mean Squared Error = 1.54, R² Score = 0.93\n",
      "\n",
      "These metrics suggest that the model is performing well in predicting the maximum temperature. Consider the following insights and potential improvements.\n",
      "\n",
      "### Limitations:\n",
      "- The model’s performance depends heavily on the quality and quantity of the data used for training.\n",
      "- Model interpretability might vary, especially with more complex models like XGBoost or Gradient Boosting.\n",
      "\n",
      "### Areas for Improvement:\n",
      "- Explore additional data features or perform feature engineering.\n",
      "- Conduct more comprehensive hyperparameter tuning (e.g., using RandomizedSearchCV or Bayesian Optimization).\n",
      "\n",
      "Predicted Maximum Temperature: 25.77°C\n"
     ]
    }
   ],
   "source": [
    "# 5_Conclusion_and_Report.ipynb\n",
    "\n",
    "import joblib\n",
    "import pandas as pd\n",
    "from sklearn.metrics import mean_squared_error, r2_score\n",
    "\n",
    "# Load the preprocessed data\n",
    "X_train, X_test, y_train, y_test = joblib.load('data/split_data.pkl')\n",
    "\n",
    "# Load the best model identified in the previous notebook\n",
    "best_model = joblib.load('models/xgboost_model.pkl')  # Save the best model's name in the previous step\n",
    "\n",
    "# Evaluate the best model on the test set\n",
    "y_pred = best_model.predict(X_test)\n",
    "mse_best = mean_squared_error(y_test, y_pred)\n",
    "r2_best = r2_score(y_test, y_pred)\n",
    "\n",
    "print(\"### Conclusion and Insights\")\n",
    "print(f\"Final Model Performance on Test Set:\\n\"\n",
    "      f\"Mean Squared Error = {mse_best:.2f}, \"\n",
    "      f\"R² Score = {r2_best:.2f}\\n\")\n",
    "print(\"These metrics suggest that the model is performing well in predicting the maximum temperature. \"\n",
    "      \"Consider the following insights and potential improvements.\")\n",
    "\n",
    "# Discuss potential limitations and areas for improvement\n",
    "print(\"\"\"\n",
    "### Limitations:\n",
    "- The model’s performance depends heavily on the quality and quantity of the data used for training.\n",
    "- Model interpretability might vary, especially with more complex models like XGBoost or Gradient Boosting.\n",
    "\n",
    "### Areas for Improvement:\n",
    "- Explore additional data features or perform feature engineering.\n",
    "- Conduct more comprehensive hyperparameter tuning (e.g., using RandomizedSearchCV or Bayesian Optimization).\n",
    "\"\"\")\n",
    "\n",
    "# Save the best model for future use\n",
    "joblib.dump(best_model, 'models/final_best_model.pkl')\n",
    "\n",
    "# Example of using the best model for prediction\n",
    "def predict_max_temp(input_data):\n",
    "    preprocessor = joblib.load('data/preprocessor.pkl')\n",
    "    input_preprocessed = preprocessor.transform(input_data)\n",
    "    max_temp_prediction = best_model.predict(input_preprocessed)\n",
    "    return max_temp_prediction\n",
    "\n",
    "# Example usage:\n",
    "input_data = pd.DataFrame({\n",
    "    'province': ['Hanoi'],\n",
    "    'wind_d': ['NNE'],\n",
    "    'min': [30],\n",
    "    'wind': [14],\n",
    "    'rain': [0.0],\n",
    "    'humidi': [100],\n",
    "    'cloud': [80],\n",
    "    'pressure': [900]\n",
    "})\n",
    "\n",
    "predicted_temp = predict_max_temp(input_data)\n",
    "print(f\"Predicted Maximum Temperature: {predicted_temp[0]:.2f}°C\")\n"
   ]
  }
 ],
 "metadata": {
  "kernelspec": {
   "display_name": "Python 3",
   "language": "python",
   "name": "python3"
  },
  "language_info": {
   "codemirror_mode": {
    "name": "ipython",
    "version": 3
   },
   "file_extension": ".py",
   "mimetype": "text/x-python",
   "name": "python",
   "nbconvert_exporter": "python",
   "pygments_lexer": "ipython3",
   "version": "3.12.4"
  }
 },
 "nbformat": 4,
 "nbformat_minor": 2
}
