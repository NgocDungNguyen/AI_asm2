{
 "cells": [
  {
   "cell_type": "code",
   "execution_count": 2,
   "metadata": {},
   "outputs": [
    {
     "name": "stdout",
     "output_type": "stream",
     "text": [
      "R2 Score: 0.9966251319507504\n",
      "RMSE: 0.537769134175054\n",
      "MAE: 0.3330972718894482\n",
      "Cross-validated RMSE: 0.670023623000103\n"
     ]
    },
    {
     "ename": "",
     "evalue": "",
     "output_type": "error",
     "traceback": [
      "\u001b[1;31mThe Kernel crashed while executing code in the current cell or a previous cell. \n",
      "\u001b[1;31mPlease review the code in the cell(s) to identify a possible cause of the failure. \n",
      "\u001b[1;31mClick <a href='https://aka.ms/vscodeJupyterKernelCrash'>here</a> for more info. \n",
      "\u001b[1;31mView Jupyter <a href='command:jupyter.viewOutput'>log</a> for further details."
     ]
    }
   ],
   "source": [
    "# XGBoost Model Training and Evaluation Notebook\n",
    "# Filename: xgboost_training.ipynb\n",
    "\n",
    "# Import necessary libraries\n",
    "import pandas as pd\n",
    "import numpy as np\n",
    "import xgboost as xgb\n",
    "from sklearn.metrics import mean_squared_error, mean_absolute_error, r2_score\n",
    "from sklearn.model_selection import cross_val_score, KFold\n",
    "\n",
    "# Load the preprocessed data\n",
    "X_train = pd.read_csv(r\"C:\\Users\\June Nguyen\\AI_asm2\\preprocessing\\X_train.csv\")\n",
    "X_test = pd.read_csv(r\"C:\\Users\\June Nguyen\\AI_asm2\\preprocessing\\X_test.csv\")\n",
    "y_train = pd.read_csv(r\"C:\\Users\\June Nguyen\\AI_asm2\\preprocessing\\y_train.csv\").squeeze()\n",
    "y_test = pd.read_csv(r\"C:\\Users\\June Nguyen\\AI_asm2\\preprocessing\\y_test.csv\").squeeze()\n",
    "\n",
    "# Ensure all features are numeric by dropping non-numeric columns\n",
    "non_numeric_columns = X_train.select_dtypes(include=['object']).columns\n",
    "X_train = X_train.drop(columns=non_numeric_columns)\n",
    "X_test = X_test.drop(columns=non_numeric_columns)\n",
    "\n",
    "# 1. Train the XGBoost Model without Hyperparameter Tuning\n",
    "xgboost_model = xgb.XGBRegressor(objective='reg:squarederror', random_state=42)\n",
    "xgboost_model.fit(X_train, y_train)\n",
    "\n",
    "# 2. Evaluate the Model\n",
    "\n",
    "# Predictions on the test set\n",
    "y_pred = xgboost_model.predict(X_test)\n",
    "\n",
    "# Calculate evaluation metrics\n",
    "r2 = r2_score(y_test, y_pred)\n",
    "rmse = np.sqrt(mean_squared_error(y_test, y_pred))\n",
    "mae = mean_absolute_error(y_test, y_pred)\n",
    "\n",
    "print(f\"R2 Score: {r2}\")\n",
    "print(f\"RMSE: {rmse}\")\n",
    "print(f\"MAE: {mae}\")\n",
    "\n",
    "# K-fold cross-validation\n",
    "kfold = KFold(n_splits=10, random_state=42, shuffle=True)\n",
    "cv_results = cross_val_score(xgboost_model, X_train, y_train, cv=kfold, scoring='neg_mean_squared_error')\n",
    "cv_rmse = np.sqrt(-cv_results.mean())\n",
    "\n",
    "print(f\"Cross-validated RMSE: {cv_rmse}\")\n",
    "\n",
    "# No saving of the model here, only evaluation\n"
   ]
  }
 ],
 "metadata": {
  "kernelspec": {
   "display_name": "Python 3",
   "language": "python",
   "name": "python3"
  },
  "language_info": {
   "codemirror_mode": {
    "name": "ipython",
    "version": 3
   },
   "file_extension": ".py",
   "mimetype": "text/x-python",
   "name": "python",
   "nbconvert_exporter": "python",
   "pygments_lexer": "ipython3",
   "version": "3.12.4"
  }
 },
 "nbformat": 4,
 "nbformat_minor": 2
}
